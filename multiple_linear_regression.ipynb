{
 "cells": [
  {
   "cell_type": "code",
   "execution_count": 394,
   "metadata": {},
   "outputs": [],
   "source": [
    "import pandas as pd\n",
    "from sklearn import linear_model\n",
    "import tkinter as tk \n",
    "import matplotlib.pyplot as plt\n",
    "from matplotlib.backends.backend_tkagg import FigureCanvasTkAgg"
   ]
  },
  {
   "cell_type": "code",
   "execution_count": 395,
   "metadata": {},
   "outputs": [
    {
     "data": {
      "text/html": [
       "<div>\n",
       "<style scoped>\n",
       "    .dataframe tbody tr th:only-of-type {\n",
       "        vertical-align: middle;\n",
       "    }\n",
       "\n",
       "    .dataframe tbody tr th {\n",
       "        vertical-align: top;\n",
       "    }\n",
       "\n",
       "    .dataframe thead th {\n",
       "        text-align: right;\n",
       "    }\n",
       "</style>\n",
       "<table border=\"1\" class=\"dataframe\">\n",
       "  <thead>\n",
       "    <tr style=\"text-align: right;\">\n",
       "      <th></th>\n",
       "      <th>Species</th>\n",
       "      <th>Weight</th>\n",
       "      <th>Length1</th>\n",
       "      <th>Length2</th>\n",
       "      <th>Length3</th>\n",
       "      <th>Height</th>\n",
       "      <th>Width</th>\n",
       "    </tr>\n",
       "  </thead>\n",
       "  <tbody>\n",
       "    <tr>\n",
       "      <th>0</th>\n",
       "      <td>Bream</td>\n",
       "      <td>242.0</td>\n",
       "      <td>23.2</td>\n",
       "      <td>25.4</td>\n",
       "      <td>30.0</td>\n",
       "      <td>11.5200</td>\n",
       "      <td>4.0200</td>\n",
       "    </tr>\n",
       "    <tr>\n",
       "      <th>1</th>\n",
       "      <td>Bream</td>\n",
       "      <td>290.0</td>\n",
       "      <td>24.0</td>\n",
       "      <td>26.3</td>\n",
       "      <td>31.2</td>\n",
       "      <td>12.4800</td>\n",
       "      <td>4.3056</td>\n",
       "    </tr>\n",
       "    <tr>\n",
       "      <th>2</th>\n",
       "      <td>Bream</td>\n",
       "      <td>340.0</td>\n",
       "      <td>23.9</td>\n",
       "      <td>26.5</td>\n",
       "      <td>31.1</td>\n",
       "      <td>12.3778</td>\n",
       "      <td>4.6961</td>\n",
       "    </tr>\n",
       "    <tr>\n",
       "      <th>3</th>\n",
       "      <td>Bream</td>\n",
       "      <td>363.0</td>\n",
       "      <td>26.3</td>\n",
       "      <td>29.0</td>\n",
       "      <td>33.5</td>\n",
       "      <td>12.7300</td>\n",
       "      <td>4.4555</td>\n",
       "    </tr>\n",
       "    <tr>\n",
       "      <th>4</th>\n",
       "      <td>Bream</td>\n",
       "      <td>430.0</td>\n",
       "      <td>26.5</td>\n",
       "      <td>29.0</td>\n",
       "      <td>34.0</td>\n",
       "      <td>12.4440</td>\n",
       "      <td>5.1340</td>\n",
       "    </tr>\n",
       "  </tbody>\n",
       "</table>\n",
       "</div>"
      ],
      "text/plain": [
       "  Species  Weight  Length1  Length2  Length3   Height   Width\n",
       "0   Bream   242.0     23.2     25.4     30.0  11.5200  4.0200\n",
       "1   Bream   290.0     24.0     26.3     31.2  12.4800  4.3056\n",
       "2   Bream   340.0     23.9     26.5     31.1  12.3778  4.6961\n",
       "3   Bream   363.0     26.3     29.0     33.5  12.7300  4.4555\n",
       "4   Bream   430.0     26.5     29.0     34.0  12.4440  5.1340"
      ]
     },
     "execution_count": 395,
     "metadata": {},
     "output_type": "execute_result"
    }
   ],
   "source": [
    "dataset=pd.read_csv('Downloads\\\\Fish.csv')\n",
    "dataset.head()"
   ]
  },
  {
   "cell_type": "code",
   "execution_count": 396,
   "metadata": {},
   "outputs": [],
   "source": [
    "X = dataset[['Height','Length1','Length2','Length3','Width']].astype(float) \n",
    "Y = dataset['Weight'].astype(float) \n"
   ]
  },
  {
   "cell_type": "code",
   "execution_count": 397,
   "metadata": {},
   "outputs": [
    {
     "name": "stdout",
     "output_type": "stream",
     "text": [
      "Intercept: \n",
      " -499.586955356942\n",
      "Coefficients: \n",
      " [ 28.29735132  62.35521443  -6.52675249 -29.02621861  22.47330665]\n"
     ]
    }
   ],
   "source": [
    "# with sklearn\n",
    "regr = linear_model.LinearRegression()\n",
    "regr.fit(X, Y)\n",
    "\n",
    "print('Intercept: \\n', regr.intercept_)\n",
    "print('Coefficients: \\n', regr.coef_)\n"
   ]
  },
  {
   "cell_type": "code",
   "execution_count": 398,
   "metadata": {},
   "outputs": [],
   "source": [
    "root= tk.Tk()\n",
    "\n",
    "canvas1 = tk.Canvas(root, width = 500, height = 500)\n",
    "canvas1.pack()"
   ]
  },
  {
   "cell_type": "code",
   "execution_count": 399,
   "metadata": {},
   "outputs": [
    {
     "data": {
      "text/plain": [
       "2"
      ]
     },
     "execution_count": 399,
     "metadata": {},
     "output_type": "execute_result"
    }
   ],
   "source": [
    "\n",
    "Intercept_result = ('Intercept: ', regr.intercept_)\n",
    "label_Intercept = tk.Label(root, text=Intercept_result, justify = 'center')\n",
    "canvas1.create_window(260, 230, window=label_Intercept)\n",
    "Coefficients_result  = ('Coefficients: ', regr.coef_)\n",
    "label_Coefficients = tk.Label(root, text=Coefficients_result, justify = 'center')\n",
    "canvas1.create_window(260, 250, window=label_Coefficients)\n"
   ]
  },
  {
   "cell_type": "code",
   "execution_count": 400,
   "metadata": {},
   "outputs": [
    {
     "data": {
      "text/plain": [
       "4"
      ]
     },
     "execution_count": 400,
     "metadata": {},
     "output_type": "execute_result"
    }
   ],
   "source": [
    "label1 = tk.Label(root, text='Type height')\n",
    "canvas1.create_window(160, 100, window=label1)\n",
    "\n",
    "entry1 = tk.Entry (root) \n",
    "canvas1.create_window(270, 100, window=entry1)"
   ]
  },
  {
   "cell_type": "code",
   "execution_count": 401,
   "metadata": {},
   "outputs": [
    {
     "data": {
      "text/plain": [
       "6"
      ]
     },
     "execution_count": 401,
     "metadata": {},
     "output_type": "execute_result"
    }
   ],
   "source": [
    "label2 = tk.Label(root, text='Type Length1')\n",
    "canvas1.create_window(160, 120, window=label2)\n",
    "\n",
    "entry2 = tk.Entry (root) \n",
    "canvas1.create_window(270, 120, window=entry2)"
   ]
  },
  {
   "cell_type": "code",
   "execution_count": 402,
   "metadata": {},
   "outputs": [
    {
     "data": {
      "text/plain": [
       "8"
      ]
     },
     "execution_count": 402,
     "metadata": {},
     "output_type": "execute_result"
    }
   ],
   "source": [
    "label3 = tk.Label(root, text='Type Length2')\n",
    "canvas1.create_window(160, 140, window=label3)\n",
    "\n",
    "entry3 = tk.Entry (root) \n",
    "canvas1.create_window(270, 140, window=entry3)"
   ]
  },
  {
   "cell_type": "code",
   "execution_count": 403,
   "metadata": {},
   "outputs": [
    {
     "data": {
      "text/plain": [
       "10"
      ]
     },
     "execution_count": 403,
     "metadata": {},
     "output_type": "execute_result"
    }
   ],
   "source": [
    "label4 = tk.Label(root, text='Type Length3')\n",
    "canvas1.create_window(160, 160, window=label4)\n",
    "\n",
    "entry4 = tk.Entry (root) \n",
    "canvas1.create_window(270, 160, window=entry4)"
   ]
  },
  {
   "cell_type": "code",
   "execution_count": 404,
   "metadata": {},
   "outputs": [
    {
     "data": {
      "text/plain": [
       "12"
      ]
     },
     "execution_count": 404,
     "metadata": {},
     "output_type": "execute_result"
    }
   ],
   "source": [
    "label5 = tk.Label(root, text='Type Width')\n",
    "canvas1.create_window(160, 180, window=label5)\n",
    "\n",
    "entry5 = tk.Entry (root) \n",
    "canvas1.create_window(270, 180, window=entry5)"
   ]
  },
  {
   "cell_type": "code",
   "execution_count": 405,
   "metadata": {},
   "outputs": [
    {
     "data": {
      "text/plain": [
       "13"
      ]
     },
     "execution_count": 405,
     "metadata": {},
     "output_type": "execute_result"
    }
   ],
   "source": [
    "def values(): \n",
    "    global n_H\n",
    "    n_H= float(entry1.get()) \n",
    "    \n",
    "    global n_l1 \n",
    "    n_l1 = float(entry2.get()) \n",
    "    \n",
    "    global n_l2 \n",
    "    n_l2 = float(entry3.get()) \n",
    "    \n",
    "    global n_l3 \n",
    "    n_l3 = float(entry4.get()) \n",
    "    \n",
    "    global n_W\n",
    "    n_W = float(entry5.get()) \n",
    "    \n",
    "    Prediction_result  = ('Predicted Weight of fish: ', regr.predict([[n_H,n_l1,n_l2,n_l3,n_W]]))\n",
    "    label_Prediction = tk.Label(root, text= Prediction_result, bg='yellow')\n",
    "    canvas1.create_window(260, 280, window=label_Prediction)\n",
    "    \n",
    "button1 = tk.Button (root, text='Predict Weight: ',command=values, bg='yellow')  \n",
    "canvas1.create_window(270, 210, window=button1)"
   ]
  },
  {
   "cell_type": "code",
   "execution_count": 406,
   "metadata": {},
   "outputs": [],
   "source": [
    "\n",
    "figure3 = plt.Figure(figsize=(3,3), dpi=100)\n",
    "ax3 = figure3.add_subplot(111)\n",
    "ax3.scatter(dataset['Height'].astype(float),dataset['Weight'].astype(float), color = 'r')\n",
    "scatter3 = FigureCanvasTkAgg(figure3, root) \n",
    "scatter3.get_tk_widget().pack(side=tk.RIGHT, fill=tk.BOTH)\n",
    "ax3.legend(['Weight']) \n",
    "ax3.set_xlabel('Height')\n",
    "ax3.set_title('Height Vs Weight')\n",
    "\n",
    " \n",
    "figure4 = plt.Figure(figsize=(3,3), dpi=100)\n",
    "ax4 = figure4.add_subplot(111)\n",
    "ax4.scatter(dataset['Length1'].astype(float),dataset['Weight'].astype(float), color = 'b')\n",
    "scatter4 = FigureCanvasTkAgg(figure4, root) \n",
    "scatter4.get_tk_widget().pack(side=tk.RIGHT, fill=tk.BOTH)\n",
    "ax4.legend(['Weight']) \n",
    "ax4.set_xlabel('Length1')\n",
    "ax4.set_title('Length1 Vs Weight')\n",
    "\n",
    "figure5 = plt.Figure(figsize=(3,3), dpi=100)\n",
    "ax5 = figure5.add_subplot(111)\n",
    "ax5.scatter(dataset['Length2'].astype(float),dataset['Weight'].astype(float), color = 'g')\n",
    "scatter5 = FigureCanvasTkAgg(figure5, root) \n",
    "scatter5.get_tk_widget().pack(side=tk.RIGHT, fill=tk.BOTH)\n",
    "ax5.legend(['Weight']) \n",
    "ax5.set_xlabel('Length2')\n",
    "ax5.set_title('Length2 Vs Weight')\n",
    "\n",
    "figure6= plt.Figure(figsize=(3,3), dpi=100)\n",
    "ax6 = figure6.add_subplot(111)\n",
    "ax6.scatter(dataset['Length3'].astype(float),dataset['Weight'].astype(float), color = 'pink')\n",
    "scatter6 = FigureCanvasTkAgg(figure6, root) \n",
    "scatter6.get_tk_widget().pack(side=tk.RIGHT, fill=tk.BOTH)\n",
    "ax6.legend(['Weight']) \n",
    "ax6.set_xlabel('Length3')\n",
    "ax6.set_title('Length3 Vs Weight')\n",
    "\n",
    "figure7 = plt.Figure(figsize=(3,3), dpi=100)\n",
    "ax7 = figure7.add_subplot(111)\n",
    "ax7.scatter(dataset['Width'].astype(float),dataset['Weight'].astype(float), color = 'b')\n",
    "scatter7 = FigureCanvasTkAgg(figure7, root) \n",
    "scatter7.get_tk_widget().pack(side=tk.RIGHT, fill=tk.BOTH)\n",
    "ax7.legend(['Weight']) \n",
    "ax7.set_xlabel('Width')\n",
    "ax7.set_title('Width Vs Weight')\n",
    "\n",
    "\n",
    "root.mainloop()"
   ]
  },
  {
   "cell_type": "code",
   "execution_count": null,
   "metadata": {},
   "outputs": [],
   "source": []
  }
 ],
 "metadata": {
  "kernelspec": {
   "display_name": "Python 3",
   "language": "python",
   "name": "python3"
  },
  "language_info": {
   "codemirror_mode": {
    "name": "ipython",
    "version": 3
   },
   "file_extension": ".py",
   "mimetype": "text/x-python",
   "name": "python",
   "nbconvert_exporter": "python",
   "pygments_lexer": "ipython3",
   "version": "3.8.3"
  }
 },
 "nbformat": 4,
 "nbformat_minor": 4
}
